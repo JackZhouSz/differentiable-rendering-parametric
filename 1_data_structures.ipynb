{
 "cells": [
  {
   "cell_type": "markdown",
   "metadata": {},
   "source": [
    "### Data Structures\n",
    "\n",
    "Our applications and code samples are based on a simple data structure for parametric surfaces and curves. This notebook introduces the data structure and basic operations."
   ]
  },
  {
   "cell_type": "code",
   "execution_count": null,
   "metadata": {},
   "outputs": [],
   "source": [
    "import matplotlib.pyplot as plt\n",
    "import torch\n",
    "import trimesh\n",
    "\n",
    "device = torch.device('cpu')"
   ]
  },
  {
   "cell_type": "markdown",
   "metadata": {},
   "source": [
    "The data structures are very similar to indexed face sets for meshes. They are designed to hold a set of parametric curves/surfaces, for example three cubic Bézier curves.\n",
    "\n",
    "The control point positions are stored in an array `V`; the array `F` holds the indices into `V` for each individual curve/surface.\n",
    "\n",
    "This example shows the data structure for curves:"
   ]
  },
  {
   "cell_type": "code",
   "execution_count": null,
   "metadata": {},
   "outputs": [],
   "source": [
    "from drpg import ParametricCurves\n",
    "\n",
    "# Create a data structure that holds cubic Bézier curves in 2D\n",
    "degree    = 3\n",
    "dimension = 2\n",
    "curves = ParametricCurves(n=degree+1, d=dimension, device=device)\n",
    "\n",
    "# Add three random curves\n",
    "curves.add(torch.rand(3, degree+1, 2))\n",
    "\n",
    "print(f\"{curves.V.shape=}\", f\"{curves.V[0]=}\", f\"{curves.V.dtype=}\")\n",
    "print(f\"{curves.F.shape=}\", f\"{curves.F[0]=}\", f\"{curves.F.dtype=}\")\n",
    "\n",
    "# Get the control point positions of all curves\n",
    "C = curves.V[curves.F]\n",
    "print(f\"{C.shape=}\")\n",
    "\n",
    "# Display the control points\n",
    "fig, ax = plt.subplots(1, 1, figsize=(4, 4))\n",
    "for i in range(len(curves.F)):\n",
    "    c = C[i]\n",
    "    ax.plot(c[:, 0].cpu(), c[:, 1].cpu())\n",
    "    ax.scatter(c[:, 0].cpu(), c[:, 1].cpu(), label=f\"Control points {i}\")\n",
    "ax.legend()"
   ]
  },
  {
   "cell_type": "markdown",
   "metadata": {},
   "source": [
    "The data structure for surface patches is very similar:"
   ]
  },
  {
   "cell_type": "code",
   "execution_count": null,
   "metadata": {},
   "outputs": [],
   "source": [
    "from drpg import ParametricPatches, create_quadratic_grid, generate_grid_faces\n",
    "\n",
    "import numpy as np\n",
    "\n",
    "# Create a data structure that holds biquadratic Bézier patches in 3D\n",
    "degree = 2\n",
    "patches = ParametricPatches(n=degree+1, device=device)\n",
    "\n",
    "# Add a random patch and a patch with control point following a quadratic function\n",
    "patches.add(torch.rand(1, degree+1, degree+1, 3))\n",
    "patches.add(create_quadratic_grid(degree+1, degree+1, a=0.2, b=0.3, position=[0, 0, 0], normal=[0, 1, 0], tangent=[1, 0, 0], scale=0.5, device=device))\n",
    "\n",
    "print(f\"{patches.V.shape=}\", f\"{patches.V[0]=}\", f\"{patches.V.dtype=}\")\n",
    "print(f\"{patches.F.shape=}\", f\"{patches.F[0]=}\", f\"{patches.F.dtype=}\")\n",
    "\n",
    "# Get the control point positions of all patches\n",
    "C = patches.V[patches.F]\n",
    "print(f\"{C.shape=}\")\n",
    "\n",
    "# Display the control meshes\n",
    "scene = trimesh.Scene()\n",
    "for i in range(len(patches.F)):\n",
    "    c = C[i]\n",
    "\n",
    "    # Generate a unique color for this patch\n",
    "    color  = (255*(np.random.rand(3)*0.5 + 0.5)).astype(np.uint8)\n",
    "\n",
    "    # Create geometry for the control mesh\n",
    "    f = generate_grid_faces(patches.n, patches.m)\n",
    "    mesh = trimesh.Trimesh(c.reshape(-1, 3), f)\n",
    "    mesh.visual = trimesh.visual.ColorVisuals(vertex_colors=np.tile(color, reps=(mesh.vertices.shape[0], 1)))\n",
    "\n",
    "    # Create geometry for the control points\n",
    "    points = [trimesh.primitives.Sphere(radius=0.01, center=pt).to_mesh() for pt in c.reshape(-1, 3)]\n",
    "    for point in points:\n",
    "        point.visual = trimesh.visual.ColorVisuals(vertex_colors=np.tile(color, reps=(point.vertices.shape[0], 1)))\n",
    "\n",
    "    scene.add_geometry(mesh)\n",
    "    scene.add_geometry(points)\n",
    "scene.show()"
   ]
  }
 ],
 "metadata": {
  "kernelspec": {
   "display_name": "diffshadow",
   "language": "python",
   "name": "python3"
  },
  "language_info": {
   "codemirror_mode": {
    "name": "ipython",
    "version": 3
   },
   "file_extension": ".py",
   "mimetype": "text/x-python",
   "name": "python",
   "nbconvert_exporter": "python",
   "pygments_lexer": "ipython3",
   "version": "3.9.19"
  }
 },
 "nbformat": 4,
 "nbformat_minor": 2
}
