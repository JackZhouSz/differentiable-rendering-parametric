{
 "cells": [
  {
   "cell_type": "markdown",
   "metadata": {},
   "source": [
    "### Differentiable Tessellation\n",
    "\n",
    "Our approach to differentiable rendering of parametric geometry relies on differentiable tessellation. This notebook introduces the tessellation functions."
   ]
  },
  {
   "cell_type": "code",
   "execution_count": null,
   "metadata": {},
   "outputs": [],
   "source": [
    "import matplotlib.pyplot as plt\n",
    "import numpy as np\n",
    "import torch\n",
    "import trimesh\n",
    "\n",
    "from drpg import generate_grid_faces, bezier_sphere, SurfaceTessellator, SurfaceType, get_normals_from_tangents\n",
    "\n",
    "device = torch.device('cpu')"
   ]
  },
  {
   "cell_type": "markdown",
   "metadata": {},
   "source": [
    "Create a set of parametric patches defined by a control mesh\n",
    "\n",
    "NOTE: The function name `bezier_sphere` is a bit misleading because it simply creates a set of patches. They *could* represent Bézier surfaces but also NURBS or B-spline surfaces."
   ]
  },
  {
   "cell_type": "code",
   "execution_count": null,
   "metadata": {},
   "outputs": [],
   "source": [
    "patches = bezier_sphere(n=5, device=device) \n",
    "\n",
    "np.random.seed(913)\n",
    "color = (np.random.rand(patches.F.shape[0], 3) * 255).astype(np.uint8)\n",
    "\n",
    "C = patches.V[patches.F]\n",
    "\n",
    "scene = trimesh.Scene()\n",
    "for i in range(patches.F.shape[0]):\n",
    "    c = C[i]\n",
    "\n",
    "    # Create geometry for the control mesh\n",
    "    f = generate_grid_faces(patches.n, patches.m)\n",
    "    mesh = trimesh.Trimesh(c.reshape(-1, 3), f, vertex_colors=color[i])\n",
    "\n",
    "    # Create geometry for the control points\n",
    "    points = [trimesh.primitives.Sphere(radius=0.01, center=pt).to_mesh() for pt in c.reshape(-1, 3)]\n",
    "    for point in points:\n",
    "        point.visual = trimesh.visual.ColorVisuals(vertex_colors=np.tile(color[i:i+1], reps=(point.vertices.shape[0], 1)))\n",
    "\n",
    "    scene.add_geometry(mesh)\n",
    "    scene.add_geometry(points)\n",
    "scene.show()"
   ]
  },
  {
   "cell_type": "markdown",
   "metadata": {},
   "source": [
    "A `SurfaceTessellator` can be used to tessellate the patches. The tessellator configuration decides if it is a Bézier or NURBS control mesh.\n",
    "\n",
    "We first tessellate the control mesh assuming Bézier patches. For Bézier patches, the tessellator can compute the underlying tangents and subsequently normals."
   ]
  },
  {
   "cell_type": "code",
   "execution_count": null,
   "metadata": {},
   "outputs": [],
   "source": [
    "tessellator = SurfaceTessellator(uv_grid_resolution=(32, 32), type=SurfaceType.Bezier)\n",
    "\n",
    "v, f, tu, tv = tessellator.tessellate(patches, return_per_patch=True)\n",
    "n            = get_normals_from_tangents(tu, tv)\n",
    "print(f\"{v.shape=}\")\n",
    "print(f\"{f.shape=}\")\n",
    "print(f\"{tu.shape=}\")\n",
    "print(f\"{tv.shape=}\")\n",
    "\n",
    "scene = trimesh.Scene()\n",
    "for i in range(v.shape[0]):\n",
    "    scene.add_geometry(trimesh.Trimesh(v[i].reshape(-1, 3), f[0].reshape(-1, 3), vertex_normals=n, vertex_colors=color[i]))\n",
    "scene.show()"
   ]
  },
  {
   "cell_type": "markdown",
   "metadata": {},
   "source": [
    "Now tessellate assuming NURBS patches of degree 2. Tangents and normals are not available as they are not supported by the package used for evaluation (NURBS-Diff)."
   ]
  },
  {
   "cell_type": "code",
   "execution_count": null,
   "metadata": {},
   "outputs": [],
   "source": [
    "tessellator = SurfaceTessellator(uv_grid_resolution=(32, 32), type=SurfaceType.NURBS) # <- Tessellate as NURBs surface\n",
    "\n",
    "v, f, tu, tv = tessellator.tessellate(patches, degree=2, return_per_patch=True)\n",
    "print(f\"{v.shape=}\")\n",
    "print(f\"{f.shape=}\")\n",
    "print(f\"{tu=}\")\n",
    "print(f\"{tv=}\")\n",
    "\n",
    "scene = trimesh.Scene()\n",
    "for i in range(v.shape[0]):\n",
    "    scene.add_geometry(trimesh.Trimesh(v[i].reshape(-1, 3), f[0].reshape(-1, 3), vertex_colors=color[i]))\n",
    "scene.show()"
   ]
  },
  {
   "cell_type": "markdown",
   "metadata": {},
   "source": [
    "Curves can be similarly tessellated using a `CurveTessellator`."
   ]
  },
  {
   "cell_type": "code",
   "execution_count": null,
   "metadata": {},
   "outputs": [],
   "source": [
    "from drpg import bezier_helix, ParametricCurves, CurveTessellator, circle_profile\n",
    "\n",
    "helix = bezier_helix(windings=3, device=device)\n",
    "curves = ParametricCurves(helix.shape[1], 3, device=device)\n",
    "curves.add(helix)\n",
    "\n",
    "tessellator = CurveTessellator((32))\n",
    "profile     = circle_profile(0.2)\n",
    "\n",
    "np.random.seed(913)\n",
    "color = (np.random.rand(curves.F.shape[0], 3) * 255).astype(np.uint8)\n",
    "\n",
    "C = curves.V[curves.F]\n",
    "\n",
    "scene = trimesh.Scene()\n",
    "for i in range(curves.F.shape[0]):\n",
    "    c = C[i]\n",
    "\n",
    "    # Create geometry for the control points\n",
    "    points = [trimesh.primitives.Sphere(radius=0.01, center=pt).to_mesh() for pt in c.reshape(-1, 3)]\n",
    "    for point in points:\n",
    "        point.visual = trimesh.visual.ColorVisuals(vertex_colors=np.tile(color[i:i+1], reps=(point.vertices.shape[0], 1)))\n",
    "\n",
    "    # scene.add_geometry(mesh)\n",
    "    scene.add_geometry(points)\n",
    "\n",
    "v, f, _, _, _ = tessellator.tessellate(curves=curves, profile=profile)\n",
    "\n",
    "scene.add_geometry(trimesh.Trimesh(v.reshape(-1, 3), f.reshape(-1, 3)))\n",
    "\n",
    "scene.show()"
   ]
  }
 ],
 "metadata": {
  "kernelspec": {
   "display_name": "diffparametric",
   "language": "python",
   "name": "python3"
  },
  "language_info": {
   "codemirror_mode": {
    "name": "ipython",
    "version": 3
   },
   "file_extension": ".py",
   "mimetype": "text/x-python",
   "name": "python",
   "nbconvert_exporter": "python",
   "pygments_lexer": "ipython3",
   "version": "3.9.19"
  }
 },
 "nbformat": 4,
 "nbformat_minor": 2
}
